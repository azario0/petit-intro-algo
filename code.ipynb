{
 "cells": [
  {
   "cell_type": "markdown",
   "metadata": {},
   "source": [
    "# Fait par Benmalek Zohir"
   ]
  },
  {
   "cell_type": "markdown",
   "metadata": {},
   "source": [
    "### Petite Introduction a l'algorithmique"
   ]
  },
  {
   "cell_type": "markdown",
   "metadata": {},
   "source": [
    "# Trouver la chaine de caracteres dans une chaine de caracteres"
   ]
  },
  {
   "cell_type": "code",
   "execution_count": 2,
   "metadata": {},
   "outputs": [
    {
     "name": "stdout",
     "output_type": "stream",
     "text": [
      "I ' m   a   m a c h i n e   a n d   i ' m   l o o k i n g   f o r   h e l l o   "
     ]
    }
   ],
   "source": [
    "phrase = \"I'm a machine and i'm looking for hello \"\n",
    "\n",
    "for i in phrase :\n",
    "    print(i,end=' ')"
   ]
  },
  {
   "cell_type": "code",
   "execution_count": 7,
   "metadata": {},
   "outputs": [
    {
     "name": "stdout",
     "output_type": "stream",
     "text": [
      "Le mot hello a été trouvé !\n"
     ]
    }
   ],
   "source": [
    "mot_a_trouver = 'hello'\n",
    "mot_a_trouver_index = 0\n",
    "flag = False\n",
    "for i, char in enumerate(phrase):\n",
    "    if char == mot_a_trouver[mot_a_trouver_index]:\n",
    "        mot_a_trouver_index += 1\n",
    "        if mot_a_trouver_index == len(mot_a_trouver): \n",
    "            print('Le mot', mot_a_trouver, 'a été trouvé !')\n",
    "            mot_a_trouver_index = 0 \n",
    "            flag = True\n",
    "    else:\n",
    "        mot_a_trouver_index = 0  \n",
    "\n",
    "if (flag==False):\n",
    "    print(f\"Le mot {mot_a_trouver} n'a pas etais trouver\")"
   ]
  },
  {
   "cell_type": "markdown",
   "metadata": {},
   "source": [
    "# Trouver le nombre le plus grand"
   ]
  },
  {
   "cell_type": "code",
   "execution_count": 8,
   "metadata": {},
   "outputs": [
    {
     "name": "stdout",
     "output_type": "stream",
     "text": [
      "Le nombre le plus grand c'est :  7\n"
     ]
    }
   ],
   "source": [
    "numbers = [1, 3, 5, 2, 0,7]\n",
    "largest = numbers[0]\n",
    "\n",
    "for num in numbers:\n",
    "    if num > largest:\n",
    "        largest = num\n",
    "\n",
    "print(\"Le nombre le plus grand c'est : \",largest)\n"
   ]
  }
 ],
 "metadata": {
  "kernelspec": {
   "display_name": "Python 3",
   "language": "python",
   "name": "python3"
  },
  "language_info": {
   "codemirror_mode": {
    "name": "ipython",
    "version": 3
   },
   "file_extension": ".py",
   "mimetype": "text/x-python",
   "name": "python",
   "nbconvert_exporter": "python",
   "pygments_lexer": "ipython3",
   "version": "3.11.4"
  },
  "orig_nbformat": 4
 },
 "nbformat": 4,
 "nbformat_minor": 2
}
